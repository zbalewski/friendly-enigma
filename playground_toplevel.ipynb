{
 "cells": [
  {
   "cell_type": "markdown",
   "id": "b1e799c7",
   "metadata": {
    "toc": true
   },
   "source": [
    "<h1>Table of Contents<span class=\"tocSkip\"></span></h1>\n",
    "<div class=\"toc\"><ul class=\"toc-item\"><li><span><a href=\"#Setup\" data-toc-modified-id=\"Setup-1\"><span class=\"toc-item-num\">1&nbsp;&nbsp;</span>Setup</a></span><ul class=\"toc-item\"><li><span><a href=\"#Let's-set-up-some-common-file-paths\" data-toc-modified-id=\"Let's-set-up-some-common-file-paths-1.1\"><span class=\"toc-item-num\">1.1&nbsp;&nbsp;</span>Let's set up some common file paths</a></span></li></ul></li><li><span><a href=\"#Behavior\" data-toc-modified-id=\"Behavior-2\"><span class=\"toc-item-num\">2&nbsp;&nbsp;</span>Behavior</a></span><ul class=\"toc-item\"><li><span><a href=\"#Extract-sync-time-stamps\" data-toc-modified-id=\"Extract-sync-time-stamps-2.1\"><span class=\"toc-item-num\">2.1&nbsp;&nbsp;</span>Extract sync time stamps</a></span></li><li><span><a href=\"#Extract-some-trial-features-so-we-can-analyze-all-of-this-neural-data...\" data-toc-modified-id=\"Extract-some-trial-features-so-we-can-analyze-all-of-this-neural-data...-2.2\"><span class=\"toc-item-num\">2.2&nbsp;&nbsp;</span>Extract some trial features so we can analyze all of this neural data...</a></span></li></ul></li><li><span><a href=\"#Spikes\" data-toc-modified-id=\"Spikes-3\"><span class=\"toc-item-num\">3&nbsp;&nbsp;</span>Spikes</a></span><ul class=\"toc-item\"><li><span><a href=\"#Turn-spike-times-into-trains-and-firing-rates\" data-toc-modified-id=\"Turn-spike-times-into-trains-and-firing-rates-3.1\"><span class=\"toc-item-num\">3.1&nbsp;&nbsp;</span>Turn spike times into trains and firing rates</a></span></li><li><span><a href=\"#Chop-1-kHz-spike-data-into-trials-and-downsample,-aligned-to-event-timestamps-extracted-from-behavior\" data-toc-modified-id=\"Chop-1-kHz-spike-data-into-trials-and-downsample,-aligned-to-event-timestamps-extracted-from-behavior-3.2\"><span class=\"toc-item-num\">3.2&nbsp;&nbsp;</span>Chop 1 kHz spike data into trials and downsample, aligned to event timestamps extracted from behavior</a></span></li></ul></li><li><span><a href=\"#LFP\" data-toc-modified-id=\"LFP-4\"><span class=\"toc-item-num\">4&nbsp;&nbsp;</span>LFP</a></span><ul class=\"toc-item\"><li><span><a href=\"#Bandpass-and-smooth-LFP-in-standard-frequency-windows\" data-toc-modified-id=\"Bandpass-and-smooth-LFP-in-standard-frequency-windows-4.1\"><span class=\"toc-item-num\">4.1&nbsp;&nbsp;</span>Bandpass and smooth LFP in standard frequency windows</a></span></li><li><span><a href=\"#Chop-bandpassed-LFP-into-trials-and-downsample,-aligned-to-event-timestamps-extracted-from-behavior\" data-toc-modified-id=\"Chop-bandpassed-LFP-into-trials-and-downsample,-aligned-to-event-timestamps-extracted-from-behavior-4.2\"><span class=\"toc-item-num\">4.2&nbsp;&nbsp;</span>Chop bandpassed LFP into trials and downsample, aligned to event timestamps extracted from behavior</a></span></li><li><span><a href=\"#Extract-some-trial-features-so-we-can-analyze-all-of-this-neural-data...\" data-toc-modified-id=\"Extract-some-trial-features-so-we-can-analyze-all-of-this-neural-data...-4.3\"><span class=\"toc-item-num\">4.3&nbsp;&nbsp;</span>Extract some trial features so we can analyze all of this neural data...</a></span></li></ul></li><li><span><a href=\"#Visualization\" data-toc-modified-id=\"Visualization-5\"><span class=\"toc-item-num\">5&nbsp;&nbsp;</span>Visualization</a></span><ul class=\"toc-item\"><li><span><a href=\"#Let's-check-out-spikes-synced-to-the-start-of-the-trial\" data-toc-modified-id=\"Let's-check-out-spikes-synced-to-the-start-of-the-trial-5.1\"><span class=\"toc-item-num\">5.1&nbsp;&nbsp;</span>Let's check out spikes synced to the start of the trial</a></span></li></ul></li></ul></div>"
   ]
  },
  {
   "cell_type": "markdown",
   "id": "7938e7e0",
   "metadata": {},
   "source": [
    "Skeleton for final project..."
   ]
  },
  {
   "cell_type": "markdown",
   "id": "e6d4e4ba",
   "metadata": {},
   "source": [
    "# Setup"
   ]
  },
  {
   "cell_type": "markdown",
   "id": "925d9326",
   "metadata": {},
   "source": [
    "## Let's set up some common file paths"
   ]
  },
  {
   "cell_type": "code",
   "execution_count": 206,
   "id": "54e43820",
   "metadata": {},
   "outputs": [],
   "source": [
    "import mat73\n",
    "from os.path import join as pjoin\n",
    "import glob\n",
    "\n",
    "from collections import defaultdict\n",
    "\n",
    "import numpy as np\n",
    "import pandas as pd\n",
    "import matplotlib.pyplot as plt\n",
    "import scipy.signal as signal\n",
    "import scipy.ndimage as ndimage\n",
    "\n",
    "import dask.array as da"
   ]
  },
  {
   "cell_type": "code",
   "execution_count": 2,
   "id": "c44e3a05",
   "metadata": {},
   "outputs": [],
   "source": [
    "data_dir = \"data_clean\"\n",
    "session = \"George00_rec14_01282021\"\n",
    "\n",
    "bhv_fnames = sorted(glob.glob(pjoin(data_dir, session + \"*bhv*\"))) # could be >1\n",
    "spk_fname = glob.glob(pjoin(data_dir, session + \"*units*\")) # expect 1\n",
    "lfp_fname = glob.glob(pjoin(data_dir, session + \"*LFP*\")) # expect 1"
   ]
  },
  {
   "cell_type": "markdown",
   "id": "b3314c22",
   "metadata": {},
   "source": [
    "# Behavior"
   ]
  },
  {
   "cell_type": "markdown",
   "id": "32263d96",
   "metadata": {},
   "source": [
    "## Extract sync time stamps\n",
    "\n",
    "For each session, we want to pull out snippets around task events. Two standard sync points are the start (pictures are displayed on the screen) and end (animal makes a selection with a lever movement) of each trial. This function could be customized easily-- we just need a vector of time stamps (in seconds) to align the neural data."
   ]
  },
  {
   "cell_type": "code",
   "execution_count": 3,
   "id": "49e7b756",
   "metadata": {},
   "outputs": [],
   "source": [
    "def load_raw_bhv(bhv_fnames):\n",
    "    \"\"\"\n",
    "    Load raw bhv (.bhv2 saved as .mat) into dict; consolidate \n",
    "    if split across multiple files (assume alpha order)\n",
    "    \n",
    "    Parameters:\n",
    "    ----------\n",
    "    bhv_fnames : list \n",
    "        File path(s) for behavior data\n",
    "        \n",
    "    Returns:\n",
    "    -------\n",
    "    bhv_data : dict\n",
    "        All task data\n",
    "        \n",
    "    \"\"\"\n",
    "    \n",
    "    bhv_data = defaultdict(list)\n",
    "    \n",
    "    for f in bhv_fnames:\n",
    "        print(f)\n",
    "        data = mat73.loadmat(f)\n",
    "\n",
    "        data_vars = data[\"bhvdata\"].keys()\n",
    "        for v in data_vars:\n",
    "            bhv_data[v] += data[\"bhvdata\"][v]\n",
    "            \n",
    "    return bhv_data\n",
    "\n",
    "def load_pl2_codes(spk_fname):\n",
    "    \"\"\"\n",
    "    Load task event codes and corresponding time stamps from \n",
    "    raw spk (.pl2 saved as .mat).\n",
    "    \n",
    "    Parameters:\n",
    "    ----------\n",
    "    spk_fname : list\n",
    "        File path for spk data; expected length 1\n",
    "    \n",
    "    Returns:\n",
    "    -------\n",
    "    pl2_codes : dict\n",
    "        Event codes and timestamps from whole session\n",
    "    \n",
    "    \"\"\"\n",
    "    \n",
    "    pl2_codes = mat73.loadmat(spk_fname[0], \\\n",
    "                              only_include=[\"event_codes\", \"event_ts\"])\n",
    "    \n",
    "    return pl2_codes"
   ]
  },
  {
   "cell_type": "code",
   "execution_count": 4,
   "id": "1121c72f",
   "metadata": {},
   "outputs": [],
   "source": [
    "def get_trial_events(bhv_data, pl2_codes, event):\n",
    "    \"\"\"\n",
    "    For each trial in bhv_data, pull time for this event code \n",
    "    (-1 if doesn't exist)\n",
    "    \n",
    "    Parameters:\n",
    "    ----------\n",
    "    bhv_data : dict\n",
    "        All task data\n",
    "    pl2_codes : dict\n",
    "        Event codes and timestamps from whole session\n",
    "    event : int\n",
    "        Event code word\n",
    "    \n",
    "    Returns:\n",
    "    -------\n",
    "    timestamps : np vector\n",
    "        Timestamps corresponding to event within each trial (or -1)\n",
    "        \n",
    "    \"\"\"\n",
    "    \n",
    "    # cut up trials by default start and stop codes\n",
    "    start_code = 9\n",
    "    stop_code = 18\n",
    "    \n",
    "    trial_start = np.where(pl2_codes[\"event_codes\"] == start_code)[0]\n",
    "    trial_stop = np.where(pl2_codes[\"event_codes\"] == stop_code)[0]\n",
    "    \n",
    "    # check that we have the same number of trials from bhv and pl2 data\n",
    "    ntr = len(bhv_data[\"Trial\"])\n",
    "    if trial_start.shape[0] != ntr or trial_stop.shape[0] != ntr:\n",
    "        raise ValueError(\"oops! mismatched bhv2 and pl2 trial counts\")\n",
    "    \n",
    "    # cycle through all trials, save event time (if exists)\n",
    "    timestamps = -1 * np.ones(ntr)\n",
    "    for tr in range(ntr):\n",
    "        \n",
    "        # restrict to event codes in this trial\n",
    "        codes = pl2_codes[\"event_codes\"][trial_start[tr] : trial_stop[tr]]\n",
    "        ts = pl2_codes[\"event_ts\"][trial_start[tr] : trial_stop[tr]]\n",
    "        \n",
    "        idx = np.where(codes == event)[0]\n",
    "        if idx.shape[0] == 1:\n",
    "            timestamps[tr] = ts[idx]\n",
    "    \n",
    "    return timestamps\n",
    "    "
   ]
  },
  {
   "cell_type": "code",
   "execution_count": 5,
   "id": "bde1ecfb",
   "metadata": {},
   "outputs": [
    {
     "name": "stdout",
     "output_type": "stream",
     "text": [
      "data_clean/George00_rec14_01282021-bhv_A.mat\n",
      "data_clean/George00_rec14_01282021-bhv_B.mat\n",
      "data_clean/George00_rec14_01282021-bhv_C.mat\n"
     ]
    }
   ],
   "source": [
    "# load bhv data for this session\n",
    "bhv_data = load_raw_bhv(bhv_fnames)"
   ]
  },
  {
   "cell_type": "code",
   "execution_count": 6,
   "id": "1ca1c033",
   "metadata": {},
   "outputs": [],
   "source": [
    "# load spk events for this session\n",
    "pl2_codes = load_pl2_codes(spk_fname)"
   ]
  },
  {
   "cell_type": "code",
   "execution_count": 7,
   "id": "00d87420",
   "metadata": {},
   "outputs": [
    {
     "data": {
      "text/plain": [
       "(array([863.,  77.,  70.,  70.,  75.,  67.,  52.,  51.,  49.,  43.]),\n",
       " array([-1.00000000e+00,  7.05580460e+02,  1.41216092e+03,  2.11874138e+03,\n",
       "         2.82532184e+03,  3.53190230e+03,  4.23848276e+03,  4.94506322e+03,\n",
       "         5.65164368e+03,  6.35822414e+03,  7.06480460e+03]),\n",
       " <BarContainer object of 10 artists>)"
      ]
     },
     "execution_count": 7,
     "metadata": {},
     "output_type": "execute_result"
    },
    {
     "data": {
      "image/png": "[encoded data removed]",
      "text/plain": [
       "<Figure size 432x288 with 3 Axes>"
      ]
     },
     "metadata": {
      "needs_background": "light"
     },
     "output_type": "display_data"
    }
   ],
   "source": [
    "# get time stamps for pictures and lever responses\n",
    "ts_pics = get_trial_events(bhv_data, pl2_codes, 20)\n",
    "ts_left = get_trial_events(bhv_data, pl2_codes, 23)\n",
    "ts_right = get_trial_events(bhv_data, pl2_codes, 24)\n",
    "\n",
    "fig = plt.figure()\n",
    "\n",
    "ax = fig.add_subplot(1, 3, 1)\n",
    "ax.hist(ts_pics)\n",
    "\n",
    "ax = fig.add_subplot(1, 3, 2)\n",
    "ax.hist(ts_left)\n",
    "\n",
    "ax = fig.add_subplot(1, 3, 3)\n",
    "ax.hist(ts_right)"
   ]
  },
  {
   "cell_type": "markdown",
   "id": "02e3cd33",
   "metadata": {},
   "source": [
    "## Extract some trial features so we can analyze all of this neural data..."
   ]
  },
  {
   "cell_type": "markdown",
   "id": "31cb4ad8",
   "metadata": {},
   "source": [
    "# Spikes"
   ]
  },
  {
   "cell_type": "markdown",
   "id": "61a9b769",
   "metadata": {},
   "source": [
    "## Turn spike times into trains and firing rates\n",
    "\n",
    "The raw data contains spike times at 40 kHz for each neuron. While this is an efficient way to store data, it's often more convenient to visualize/to analyses on spike trains (e.g. 0 0 1 1 0 0 1 0) or smoothed firing rates (trains with 50ms boxcar smoothing) at 1 kHz."
   ]
  },
  {
   "cell_type": "code",
   "execution_count": 224,
   "id": "bddbbcb8",
   "metadata": {},
   "outputs": [],
   "source": [
    "def process_raw_spk(spk_fname):\n",
    "    \"\"\"\n",
    "    Load raw spk (.pl2 saved as .mat)\n",
    "    \n",
    "    Parameters:\n",
    "    ----------\n",
    "    spk_fname : list\n",
    "        Contains path file for raw spk data; expect 1\n",
    "        \n",
    "    Returns:\n",
    "    -------\n",
    "    raster : np array\n",
    "        spike trains, nunits x ntimes \n",
    "    fr : np array\n",
    "        firing rates, nunits x ntimes\n",
    "    unit_meta : pd table\n",
    "        meta data; each row corresponds to row in raster and fr\n",
    "\n",
    "    \"\"\"\n",
    "    \n",
    "    # load spk data\n",
    "    data = mat73.loadmat(spk_fname[0])\n",
    "\n",
    "    # get unique unit names\n",
    "    unit_names = [u[0] for u in data[\"unit_names\"]]\n",
    "    nunits = len(unit_names)\n",
    "    \n",
    "    # get last spike time in entire session, +1 second\n",
    "    last_spk = [data[u][-1] for u in unit_names]\n",
    "    max_t = 1 + max(last_spk) \n",
    "    ts = np.arange(np.round(1000 * max_t)) # ms, corresponding time vector \n",
    "    ntimes = len(ts)\n",
    "    \n",
    "    # get spike trains for all units\n",
    "    raster = get_raster(data, unit_names, ntimes)\n",
    "    \n",
    "    # smooth spike trains into firig rates\n",
    "    fr = get_fr(raster)\n",
    "     \n",
    "    # save some meta data for each unit\n",
    "    mean_fr = [len(data[u])/max_t for u in unit_names]\n",
    "    channel = [int(u.replace(\"SPK_SPKC\",\"\")[:3]) for u in unit_names]\n",
    "    unit_meta = pd.DataFrame({\"ID\" : unit_names,\n",
    "                              \"channel\" : channel,\n",
    "                              \"mean_fr\" : mean_fr})\n",
    "    \n",
    "    return raster, fr, unit_meta\n",
    "    \n",
    "def get_raster(data, unit_names, ntimes):\n",
    "    nunits = len(unit_names)\n",
    "    raster = np.empty((nunits, ntimes))\n",
    "    for u in range(nunits):\n",
    "        raster[u, :] = ts_to_train(data[unit_names[u]], ntimes)\n",
    "        \n",
    "    return raster\n",
    "\n",
    "\n",
    "def get_fr(raster):\n",
    "    \n",
    "    fr = np.empty(raster.shape)\n",
    "    for u in range(raster.shape[0]):\n",
    "        fr[u, :] = train_to_fr(raster[u, :])\n",
    "    \n",
    "    return fr\n",
    "\n",
    "\n",
    "def ts_to_train(timestamps, ntimes):\n",
    "    \"\"\"\n",
    "    Turn spike timestamps into a spike train.\n",
    "    \n",
    "    Parameters:\n",
    "    ----------\n",
    "    timestamps : np vector\n",
    "        Times this unit fired, in sec\n",
    "    ntimes : int\n",
    "        Max time index\n",
    "        \n",
    "    Returns:\n",
    "    -------\n",
    "    train : np vector\n",
    "        1 or 0 to indicate spike in that time window\n",
    "   \n",
    "    \"\"\"\n",
    "\n",
    "    # make train of same size\n",
    "    train = np.zeros((1, ntimes))\n",
    "    \n",
    "    # set train = 1 at closest time stamp\n",
    "    timestamps_ms = np.round(1000 * timestamps).astype(int)\n",
    "    train[:, timestamps_ms] = 1\n",
    "    \n",
    "    return train\n",
    "\n",
    "\n",
    "def train_to_fr(train):\n",
    "    \"\"\"\n",
    "    Turn spike train into firing rate.\n",
    "    \n",
    "    Parameters:\n",
    "    ----------\n",
    "    train : np vector\n",
    "        1 or 0 to indicate spike in that time window\n",
    "        \n",
    "    Returns:\n",
    "    -------\n",
    "    train_smoothed : np vector\n",
    "        train with 50 ms boxcar smoothing\n",
    "        \n",
    "    \"\"\"\n",
    "    # define boxcar smooth\n",
    "    box = signal.boxcar(49) / 49\n",
    "    \n",
    "    # apply smoothing\n",
    "    train_smoothed = np.convolve(train, box, \"same\")\n",
    "    \n",
    "    return train_smoothed\n"
   ]
  },
  {
   "cell_type": "code",
   "execution_count": 225,
   "id": "b9763a6c",
   "metadata": {},
   "outputs": [
    {
     "name": "stdout",
     "output_type": "stream",
     "text": [
      "CPU times: user 29 s, sys: 12.1 s, total: 41.1 s\n",
      "Wall time: 43.6 s\n"
     ]
    }
   ],
   "source": [
    "%%time\n",
    "raster, fr, unit_meta = process_raw_spk(spk_fname)"
   ]
  },
  {
   "cell_type": "markdown",
   "id": "4159566c",
   "metadata": {},
   "source": [
    "## Chop 1 kHz spike data into trials and downsample, aligned to event timestamps extracted from behavior\n",
    "\n",
    "Using the time stamps pulled from the behavior, we can look at the same time period across all trials synced to specific events (e.g. start or end of trial)."
   ]
  },
  {
   "cell_type": "code",
   "execution_count": 230,
   "id": "82e4792a",
   "metadata": {},
   "outputs": [],
   "source": [
    "def chop(long_brain, sync_points, window):\n",
    "    \"\"\"\n",
    "    Chop up 2 hr session into snippets around sync points.\n",
    "    \n",
    "    Parameters:\n",
    "    ----------\n",
    "    long_brain : 2D np array\n",
    "        units x time (e.g. spike train, LFP magnitude)\n",
    "    sync_points : np vector\n",
    "        sync points across session, e.g. start time for all trials\n",
    "    window : tuple (2 element)\n",
    "        time window around sync point (in seconds)\n",
    "\n",
    "    Returns:\n",
    "    -------\n",
    "    chopped_brain : 3D np array\n",
    "        sync_points x time x units\n",
    "        \n",
    "    \"\"\"\n",
    "    # number of units\n",
    "    nunits = long_brain.shape[0]\n",
    "    \n",
    "    # time window index\n",
    "    t_idx = np.arange(window[0] * 1000, window[1] * 1000) # use ms!\n",
    "    nt = t_idx.shape[0]\n",
    "    \n",
    "    # sync point index\n",
    "    sync_idx = np.round(sync_points * 1000) # use ms!\n",
    "    sync_idx[sync_idx == -1000] = -1 # manual fix; these trials are missing events\n",
    "    nsync = sync_idx.shape[0]\n",
    "    \n",
    "    # make index matrix\n",
    "    tile_time = np.tile(t_idx.reshape(1, -1), (nsync, 1))\n",
    "    tile_sync = np.tile(sync_idx.reshape(-1, 1), (1, nt))\n",
    "    \n",
    "    long_idx = (tile_time + tile_sync).astype(int)\n",
    "    long_idx[tile_sync == -1] = -1 # same manual fix\n",
    "    \n",
    "    # chop up each unit...\n",
    "    chopped_brain = np.empty((nsync, nt, nunits))\n",
    "    for u in range(nunits):\n",
    "        chopped_brain[:, :, u] = long_brain[u, :][long_idx]\n",
    "    \n",
    "    return chopped_brain\n",
    "    "
   ]
  },
  {
   "cell_type": "code",
   "execution_count": 347,
   "id": "8d18154c",
   "metadata": {},
   "outputs": [
    {
     "name": "stdout",
     "output_type": "stream",
     "text": [
      "CPU times: user 26.3 s, sys: 19.9 s, total: 46.2 s\n",
      "Wall time: 54 s\n"
     ]
    }
   ],
   "source": [
    "%%time\n",
    "train_chopped = chop(raster, ts_pics, (-2, 2))\n",
    "fr_chopped = chop(fr, ts_pics, (-2, 2))"
   ]
  },
  {
   "cell_type": "markdown",
   "id": "ad1dcac9",
   "metadata": {},
   "source": [
    "# LFP"
   ]
  },
  {
   "cell_type": "markdown",
   "id": "fa9eff73",
   "metadata": {},
   "source": [
    "## Bandpass and smooth LFP in standard frequency windows\n"
   ]
  },
  {
   "cell_type": "code",
   "execution_count": null,
   "id": "1b084e4f",
   "metadata": {},
   "outputs": [],
   "source": []
  },
  {
   "cell_type": "markdown",
   "id": "81d8fa34",
   "metadata": {},
   "source": [
    "## Chop bandpassed LFP into trials and downsample, aligned to event timestamps extracted from behavior"
   ]
  },
  {
   "cell_type": "code",
   "execution_count": null,
   "id": "76a63cd7",
   "metadata": {},
   "outputs": [],
   "source": []
  },
  {
   "cell_type": "markdown",
   "id": "163fa927",
   "metadata": {},
   "source": []
  },
  {
   "cell_type": "code",
   "execution_count": null,
   "id": "fec5ca65",
   "metadata": {},
   "outputs": [],
   "source": []
  },
  {
   "cell_type": "markdown",
   "id": "e31d773a",
   "metadata": {},
   "source": [
    "# Visualization"
   ]
  },
  {
   "cell_type": "markdown",
   "id": "c21cb9e0",
   "metadata": {},
   "source": [
    "## Let's check out spikes synced to the start of the trial"
   ]
  },
  {
   "cell_type": "code",
   "execution_count": null,
   "id": "fef9c9fa",
   "metadata": {},
   "outputs": [],
   "source": [
    "fun_units = [40, 43, 53, 96, 69]\n",
    "\n",
    "fig = plt.figure(figsize=(8, 10))\n",
    "\n",
    "t_idx = np.arange(-2000, 2000)\n",
    "\n",
    "for u in range(len(fun_units)):\n",
    "    ax = fig.add_subplot(5, 1, u + 1)\n",
    "    ax.plot(t_idx, 1000*np.mean(fr_chopped[:, :, fun_units[u]], axis=0))\n",
    "    \n",
    "    y = ax.get_ylim()\n",
    "    new_y = (0, y[1])\n",
    "    \n",
    "    ax.plot(np.array([0, 0]), new_y, \"k\")\n",
    "    ax.plot(np.array([-750, -750]), new_y, \"k:\")\n",
    "\n",
    "ax.set_xlabel(\"Time from sync (ms)\")\n",
    "ax.set_ylabel(\"Firing rate (Hz)\")"
   ]
  },
  {
   "cell_type": "code",
   "execution_count": null,
   "id": "26935ee0",
   "metadata": {},
   "outputs": [],
   "source": []
  }
 ],
 "metadata": {
  "kernelspec": {
   "display_name": "Python 3 (ipykernel)",
   "language": "python",
   "name": "python3"
  },
  "language_info": {
   "codemirror_mode": {
    "name": "ipython",
    "version": 3
   },
   "file_extension": ".py",
   "mimetype": "text/x-python",
   "name": "python",
   "nbconvert_exporter": "python",
   "pygments_lexer": "ipython3",
   "version": "3.8.0"
  },
  "toc": {
   "base_numbering": 1,
   "nav_menu": {},
   "number_sections": true,
   "sideBar": true,
   "skip_h1_title": false,
   "title_cell": "Table of Contents",
   "title_sidebar": "Contents",
   "toc_cell": true,
   "toc_position": {},
   "toc_section_display": true,
   "toc_window_display": false
  }
 },
 "nbformat": 4,
 "nbformat_minor": 5
}
