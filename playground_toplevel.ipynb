{
 "cells": [
  {
   "cell_type": "markdown",
   "id": "80140186",
   "metadata": {
    "toc": true
   },
   "source": [
    "<h1>Table of Contents<span class=\"tocSkip\"></span></h1>\n",
    "<div class=\"toc\"><ul class=\"toc-item\"><li><span><a href=\"#Let's-set-up-some-common-file-paths\" data-toc-modified-id=\"Let's-set-up-some-common-file-paths-1\"><span class=\"toc-item-num\">1&nbsp;&nbsp;</span>Let's set up some common file paths</a></span></li><li><span><a href=\"#Extract-sync-time-stamps\" data-toc-modified-id=\"Extract-sync-time-stamps-2\"><span class=\"toc-item-num\">2&nbsp;&nbsp;</span>Extract sync time stamps</a></span></li><li><span><a href=\"#Turn-spike-times-into-trains-and-firing-rates\" data-toc-modified-id=\"Turn-spike-times-into-trains-and-firing-rates-3\"><span class=\"toc-item-num\">3&nbsp;&nbsp;</span>Turn spike times into trains and firing rates</a></span></li><li><span><a href=\"#Chop-1-kHz-spike-data-into-trials-and-downsample,-aligned-to-event-timestamps-extracted-from-behavior\" data-toc-modified-id=\"Chop-1-kHz-spike-data-into-trials-and-downsample,-aligned-to-event-timestamps-extracted-from-behavior-4\"><span class=\"toc-item-num\">4&nbsp;&nbsp;</span>Chop 1 kHz spike data into trials and downsample, aligned to event timestamps extracted from behavior</a></span></li><li><span><a href=\"#Bandpass-and-smooth-LFP-in-standard-frequency-windows\" data-toc-modified-id=\"Bandpass-and-smooth-LFP-in-standard-frequency-windows-5\"><span class=\"toc-item-num\">5&nbsp;&nbsp;</span>Bandpass and smooth LFP in standard frequency windows</a></span></li><li><span><a href=\"#Chop-bandpassed-LFP-into-trials-and-downsample,-aligned-to-event-timestamps-extracted-from-behavior\" data-toc-modified-id=\"Chop-bandpassed-LFP-into-trials-and-downsample,-aligned-to-event-timestamps-extracted-from-behavior-6\"><span class=\"toc-item-num\">6&nbsp;&nbsp;</span>Chop bandpassed LFP into trials and downsample, aligned to event timestamps extracted from behavior</a></span></li></ul></div>"
   ]
  },
  {
   "cell_type": "markdown",
   "id": "077b026d",
   "metadata": {},
   "source": [
    "Skeleton for final project..."
   ]
  },
  {
   "cell_type": "markdown",
   "id": "19ce7fe0",
   "metadata": {},
   "source": [
    "## Let's set up some common file paths"
   ]
  },
  {
   "cell_type": "code",
   "execution_count": 1,
   "id": "c80fa8bd",
   "metadata": {},
   "outputs": [],
   "source": [
    "import mat73\n",
    "from os.path import join as pjoin\n",
    "import glob\n",
    "\n",
    "from collections import defaultdict\n",
    "\n",
    "import numpy as np\n",
    "import matplotlib.pyplot as plt\n"
   ]
  },
  {
   "cell_type": "code",
   "execution_count": 2,
   "id": "d6fcdfe4",
   "metadata": {},
   "outputs": [],
   "source": [
    "data_dir = \"data_clean\"\n",
    "session = \"George00_rec14_01282021\"\n",
    "\n",
    "bhv_fnames = sorted(glob.glob(pjoin(data_dir, session + \"*bhv*\"))) # could be >1\n",
    "spk_fname = glob.glob(pjoin(data_dir, session + \"*units*\")) # expect 1\n",
    "lfp_fname = glob.glob(pjoin(data_dir, session + \"*LFP*\")) # expect 1"
   ]
  },
  {
   "cell_type": "markdown",
   "id": "8beb9812",
   "metadata": {},
   "source": [
    "## Extract sync time stamps\n",
    "\n",
    "For each session, we want to pull out snippets around task events. Two standard sync points are the start (pictures are displayed on the screen) and end (animal makes a selection with a lever movement) of each trial. This function could be customized easily-- we just need a vector of time stamps (in seconds) to align the neural data."
   ]
  },
  {
   "cell_type": "code",
   "execution_count": 3,
   "id": "758aa806",
   "metadata": {},
   "outputs": [],
   "source": [
    "def load_raw_bhv(bhv_fnames):\n",
    "    \"\"\"\n",
    "    Load raw bhv (.bhv2 saved as .mat) into dict; consolidate \n",
    "    if split across multiple files (assume alpha order)\n",
    "    \n",
    "    Parameters:\n",
    "    ----------\n",
    "    bhv_fnames : list \n",
    "        File path(s) for behavior data\n",
    "        \n",
    "    Returns:\n",
    "    -------\n",
    "    bhv_data : dict\n",
    "        All task data\n",
    "        \n",
    "    \"\"\"\n",
    "    \n",
    "    bhv_data = defaultdict(list)\n",
    "    \n",
    "    for f in bhv_fnames:\n",
    "        print(f)\n",
    "        data = mat73.loadmat(f)\n",
    "\n",
    "        data_vars = data[\"bhvdata\"].keys()\n",
    "        for v in data_vars:\n",
    "            bhv_data[v] += data[\"bhvdata\"][v]\n",
    "            \n",
    "    return bhv_data\n",
    "\n",
    "def load_pl2_codes(spk_fname):\n",
    "    \"\"\"\n",
    "    Load task event codes and corresponding time stamps from \n",
    "    raw spk (.pl2 saved as .mat).\n",
    "    \n",
    "    Parameters:\n",
    "    ----------\n",
    "    spk_fname : list\n",
    "        File path for spk data; expected length 1\n",
    "    \n",
    "    Returns:\n",
    "    -------\n",
    "    pl2_codes : dict\n",
    "        Event codes and timestamps from whole session\n",
    "    \n",
    "    \"\"\"\n",
    "    \n",
    "    pl2_codes = mat73.loadmat(spk_fname[0], \\\n",
    "                              only_include=['event_codes', 'event_ts'])\n",
    "    \n",
    "    return pl2_codes"
   ]
  },
  {
   "cell_type": "code",
   "execution_count": 4,
   "id": "ca4963f1",
   "metadata": {},
   "outputs": [],
   "source": [
    "def get_trial_events(bhv_data, pl2_codes, event):\n",
    "    \"\"\"\n",
    "    For each trial in bhv_data, pull time for this event code \n",
    "    (-1 if doesn't exist)\n",
    "    \n",
    "    Parameters:\n",
    "    ----------\n",
    "    bhv_data : dict\n",
    "        All task data\n",
    "    pl2_codes : dict\n",
    "        Event codes and timestamps from whole session\n",
    "    event : int\n",
    "        Event code word\n",
    "    \n",
    "    Returns:\n",
    "    -------\n",
    "    timestamps : np vector\n",
    "        Timestamps corresponding to event within each trial (or -1)\n",
    "        \n",
    "    \"\"\"\n",
    "    \n",
    "    # cut up trials by default start and stop codes\n",
    "    start_code = 9\n",
    "    stop_code = 18\n",
    "    \n",
    "    trial_start = np.where(pl2_codes[\"event_codes\"] == start_code)[0]\n",
    "    trial_stop = np.where(pl2_codes[\"event_codes\"] == stop_code)[0]\n",
    "    \n",
    "    # check that we have the same number of trials from bhv and pl2 data\n",
    "    ntr = len(bhv_data[\"Trial\"])\n",
    "    if trial_start.shape[0] != ntr or trial_stop.shape[0] != ntr:\n",
    "        raise ValueError(\"oops! mismatched bhv2 and pl2 trial counts\")\n",
    "    \n",
    "    # cycle through all trials, save event time (if exists)\n",
    "    timestamps = -1 * np.ones(ntr)\n",
    "    for tr in range(ntr):\n",
    "        \n",
    "        # restrict to event codes in this trial\n",
    "        codes = pl2_codes[\"event_codes\"][trial_start[tr] : trial_stop[tr]]\n",
    "        ts = pl2_codes[\"event_ts\"][trial_start[tr] : trial_stop[tr]]\n",
    "        \n",
    "        idx = np.where(codes == event)[0]\n",
    "        if idx.shape[0] == 1:\n",
    "            timestamps[tr] = ts[idx]\n",
    "    \n",
    "    return timestamps\n",
    "    "
   ]
  },
  {
   "cell_type": "code",
   "execution_count": 5,
   "id": "8f236350",
   "metadata": {},
   "outputs": [
    {
     "name": "stdout",
     "output_type": "stream",
     "text": [
      "data_clean/George00_rec14_01282021-bhv_A.mat\n",
      "data_clean/George00_rec14_01282021-bhv_B.mat\n",
      "data_clean/George00_rec14_01282021-bhv_C.mat\n"
     ]
    }
   ],
   "source": [
    "# load bhv data for this session\n",
    "bhv_data = load_raw_bhv(bhv_fnames)"
   ]
  },
  {
   "cell_type": "code",
   "execution_count": 6,
   "id": "7588a776",
   "metadata": {},
   "outputs": [],
   "source": [
    "# load spk events for this session\n",
    "pl2_codes = load_pl2_codes(spk_fname)"
   ]
  },
  {
   "cell_type": "code",
   "execution_count": 7,
   "id": "c9dddbe0",
   "metadata": {},
   "outputs": [
    {
     "data": {
      "text/plain": [
       "(array([863.,  77.,  70.,  70.,  75.,  67.,  52.,  51.,  49.,  43.]),\n",
       " array([-1.00000000e+00,  7.05580460e+02,  1.41216092e+03,  2.11874138e+03,\n",
       "         2.82532184e+03,  3.53190230e+03,  4.23848276e+03,  4.94506322e+03,\n",
       "         5.65164368e+03,  6.35822414e+03,  7.06480460e+03]),\n",
       " <BarContainer object of 10 artists>)"
      ]
     },
     "execution_count": 7,
     "metadata": {},
     "output_type": "execute_result"
    },
    {
     "data": {
      "image/png": "[encoded data removed]",
      "text/plain": [
       "<Figure size 432x288 with 3 Axes>"
      ]
     },
     "metadata": {
      "needs_background": "light"
     },
     "output_type": "display_data"
    }
   ],
   "source": [
    "# get time stamps for pictures and lever responses\n",
    "ts_pics = get_trial_events(bhv_data, pl2_codes, 20)\n",
    "ts_left = get_trial_events(bhv_data, pl2_codes, 23)\n",
    "ts_right = get_trial_events(bhv_data, pl2_codes, 24)\n",
    "\n",
    "fig = plt.figure()\n",
    "\n",
    "ax = fig.add_subplot(1, 3, 1)\n",
    "ax.hist(ts_pics)\n",
    "\n",
    "ax = fig.add_subplot(1, 3, 2)\n",
    "ax.hist(ts_left)\n",
    "\n",
    "ax = fig.add_subplot(1, 3, 3)\n",
    "ax.hist(ts_right)"
   ]
  },
  {
   "cell_type": "markdown",
   "id": "b403695f",
   "metadata": {},
   "source": [
    "## Turn spike times into trains and firing rates\n",
    "\n",
    "The raw data contains spike times at 40 kHz for each neuron. While this is an efficient way to store data, it's often more convenient to visualize/to analyses on spike trains (e.g. 0 0 1 1 0 0 1 0) or smoothed firing rates (trains with 50ms boxcar smoothing) at 1 kHz."
   ]
  },
  {
   "cell_type": "code",
   "execution_count": null,
   "id": "eed55cad",
   "metadata": {},
   "outputs": [],
   "source": []
  },
  {
   "cell_type": "markdown",
   "id": "bffddc61",
   "metadata": {},
   "source": [
    "## Chop 1 kHz spike data into trials and downsample, aligned to event timestamps extracted from behavior\n",
    "\n",
    "Using the time stamps pulled from the behavior, we can look at the same time period across all trials synced to specific events (e.g. start or end of trial)."
   ]
  },
  {
   "cell_type": "code",
   "execution_count": null,
   "id": "ae38712b",
   "metadata": {},
   "outputs": [],
   "source": []
  },
  {
   "cell_type": "markdown",
   "id": "5da149e9",
   "metadata": {},
   "source": [
    "## Bandpass and smooth LFP in standard frequency windows\n"
   ]
  },
  {
   "cell_type": "code",
   "execution_count": null,
   "id": "0f38e177",
   "metadata": {},
   "outputs": [],
   "source": []
  },
  {
   "cell_type": "markdown",
   "id": "dc30de93",
   "metadata": {},
   "source": [
    "## Chop bandpassed LFP into trials and downsample, aligned to event timestamps extracted from behavior"
   ]
  },
  {
   "cell_type": "code",
   "execution_count": null,
   "id": "cbf70157",
   "metadata": {},
   "outputs": [],
   "source": []
  },
  {
   "cell_type": "code",
   "execution_count": null,
   "id": "d7727520",
   "metadata": {},
   "outputs": [],
   "source": []
  },
  {
   "cell_type": "code",
   "execution_count": null,
   "id": "3ed8228d",
   "metadata": {},
   "outputs": [],
   "source": []
  },
  {
   "cell_type": "code",
   "execution_count": null,
   "id": "6ea52759",
   "metadata": {},
   "outputs": [],
   "source": []
  },
  {
   "cell_type": "code",
   "execution_count": null,
   "id": "c65f3ab9",
   "metadata": {},
   "outputs": [],
   "source": []
  },
  {
   "cell_type": "code",
   "execution_count": null,
   "id": "0c3fe6a9",
   "metadata": {},
   "outputs": [],
   "source": []
  }
 ],
 "metadata": {
  "kernelspec": {
   "display_name": "Python 3 (ipykernel)",
   "language": "python",
   "name": "python3"
  },
  "language_info": {
   "codemirror_mode": {
    "name": "ipython",
    "version": 3
   },
   "file_extension": ".py",
   "mimetype": "text/x-python",
   "name": "python",
   "nbconvert_exporter": "python",
   "pygments_lexer": "ipython3",
   "version": "3.8.0"
  },
  "toc": {
   "base_numbering": 1,
   "nav_menu": {},
   "number_sections": true,
   "sideBar": true,
   "skip_h1_title": false,
   "title_cell": "Table of Contents",
   "title_sidebar": "Contents",
   "toc_cell": true,
   "toc_position": {},
   "toc_section_display": true,
   "toc_window_display": false
  }
 },
 "nbformat": 4,
 "nbformat_minor": 5
}
